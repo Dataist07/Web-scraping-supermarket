{
 "cells": [
  {
   "cell_type": "code",
   "execution_count": 2,
   "metadata": {},
   "outputs": [],
   "source": [
    "from bs4 import BeautifulSoup\n",
    "import requests\n",
    "import pandas as pd"
   ]
  },
  {
   "cell_type": "markdown",
   "metadata": {},
   "source": [
    "Fonctions récupérer lien"
   ]
  },
  {
   "cell_type": "code",
   "execution_count": 4,
   "metadata": {},
   "outputs": [],
   "source": [
    "def get_lien(lien):\n",
    "    html_text = requests.get(lien).text.encode(\"utf-8\")\n",
    "    acceuil = BeautifulSoup(html_text,'lxml')\n",
    "    return(acceuil)\n",
    "\n",
    "# Python code to convert string to list\n",
    " \n",
    "def Convert(string):\n",
    "    li = list(string.split(\"\\n\\n\\n\"))\n",
    "    return li\n",
    "\n"
   ]
  },
  {
   "cell_type": "markdown",
   "metadata": {},
   "source": [
    "Récupérer les magasins concurences"
   ]
  },
  {
   "cell_type": "code",
   "execution_count": 5,
   "metadata": {},
   "outputs": [
    {
     "data": {
      "text/plain": [
       "['auchan-escaudoeuvres',\n",
       " 'cora-cambrai',\n",
       " 'match-cambrai',\n",
       " 'market-raillencourt-sainte-olle',\n",
       " 'intermarche-super-caudry',\n",
       " 'intermarche-super-le-cateau-cambresis']"
      ]
     },
     "execution_count": 5,
     "metadata": {},
     "output_type": "execute_result"
    }
   ],
   "source": [
    "lien=\"https://www.quiestlemoinscher.leclerc/carte/centre-e-leclerc-caudry\"\n",
    "acceuil =get_lien(lien)\n",
    "nom_concu = acceuil.find(\"div\", id =\"contentChangeStore\")\n",
    "nom_concu = nom_concu.find_all(\"option\")\n",
    "\n",
    "#créé list de nom des concurences\n",
    "list_concu = []\n",
    "for concu in nom_concu:\n",
    "    concu = concu[\"value\"]\n",
    "    list_concu.append(concu)\n",
    "list_concu.pop(0)\n",
    "\n",
    "# créé list de lien de concurences\n",
    "\n",
    "list_lconcu = []\n",
    "for concu in nom_concu:\n",
    "    concu = concu[\"value\"]\n",
    "    list_lconcu.append(concu)\n",
    "list_lconcu.pop(0)\n",
    "list_lconcu"
   ]
  },
  {
   "cell_type": "markdown",
   "metadata": {},
   "source": [
    "Récupérer liste des rayons"
   ]
  },
  {
   "cell_type": "code",
   "execution_count": 25,
   "metadata": {},
   "outputs": [
    {
     "name": "stdout",
     "output_type": "stream",
     "text": [
      "{'PRODUITS BIO': 'Produits BIO'}\n",
      "{'FRUITS ET LÉGUMES': 'Fruits'}\n",
      "{'FRAIS': 'Charcuteries'}\n",
      "{'FRAIS': 'Yaourts, dessert, et Fromages blancs'}\n",
      "{'FRAIS': 'Laits et œufs'}\n",
      "{'FRAIS': 'Beurres et Crèmes'}\n",
      "{'FRAIS': 'Fromages'}\n",
      "{'FRAIS': 'Saurisserie / Poisson'}\n",
      "{'FRAIS': 'Traiteur'}\n",
      "{'SURGELÉS': 'Plats cuisinés, Entrées, Pizzas, Tartes'}\n",
      "{'SURGELÉS': 'Viandes et Poissons'}\n",
      "{'SURGELÉS': 'Légumes et Frites'}\n",
      "{'SURGELÉS': 'Glaces et Desserts glacés'}\n",
      "{'EPICERIE SALÉE': 'Plats cuisinés'}\n",
      "{'EPICERIE SALÉE': 'Conserves et bocaux'}\n",
      "{'EPICERIE SALÉE': 'Pâtes, Riz , Farines et Féculents'}\n",
      "{'EPICERIE SALÉE': 'Soupes et potages'}\n",
      "{'EPICERIE SALÉE': 'Condiments et sauces'}\n",
      "{'EPICERIE SALÉE': 'Produits Apéritifs'}\n",
      "{'EPICERIE SUCRÉE': 'Desserts et Sucres'}\n",
      "{'EPICERIE SUCRÉE': 'Biscuits'}\n",
      "{'EPICERIE SUCRÉE': 'Pâtisseries industrielles'}\n",
      "{'EPICERIE SUCRÉE': 'Petits déjeuners'}\n",
      "{'EPICERIE SUCRÉE': 'Boissons du matin ou du soir'}\n",
      "{'EPICERIE SUCRÉE': 'Chocolats et confiseries'}\n",
      "{'ALIMENTS BEBE / DIETETIQUE': 'Aliments Bébé'}\n",
      "{'ALIMENTS BEBE / DIETETIQUE': 'Produits Sans Gluten & Diététiques'}\n",
      "{'BOISSONS': 'Eaux'}\n",
      "{'BOISSONS': 'Sirop'}\n",
      "{'BOISSONS': 'Colas, Boissons gazeuses et aux Fruits'}\n",
      "{'BOISSONS': 'Jus de fruits et légumes'}\n",
      "{'BOISSONS': 'Alcools et Apéritifs'}\n",
      "{'BOISSONS': 'Vins, Champagnes et Cidres'}\n",
      "{'HYGIÈNE ET BEAUTÉ': 'Soins homme'}\n",
      "{'HYGIÈNE ET BEAUTÉ': 'Soins du corps et Visage'}\n",
      "{'HYGIÈNE ET BEAUTÉ': 'Hygiène dentaire'}\n",
      "{'HYGIÈNE ET BEAUTÉ': 'Soins des cheveux'}\n",
      "{'HYGIÈNE ET BEAUTÉ': 'Parapharmacie'}\n",
      "{'HYGIÈNE ET BEAUTÉ': 'Hygiène féminine, Changes Bébés et Incontinence Adulte'}\n",
      "{'HYGIÈNE ET BEAUTÉ': 'Essuie-tout, papiers et cotons'}\n",
      "{'NETTOYAGE': 'Nettoyants vaisselle'}\n",
      "{'NETTOYAGE': 'Nettoyants maisons'}\n",
      "{'NETTOYAGE': 'Ménage et accessoires'}\n",
      "{'NETTOYAGE': 'Désodorisants et insecticides'}\n",
      "{'NETTOYAGE': 'Soin du linge'}\n",
      "{'NETTOYAGE': 'Lessives'}\n",
      "{'ANIMALERIE': 'Aliments Chiens et Chats'}\n",
      "{'ANIMALERIE': 'Animalerie'}\n"
     ]
    }
   ],
   "source": [
    "lien ='https://www.quiestlemoinscher.leclerc/local/centre-e-leclerc-montauban-sapiac/intermarche-super-montech/frais/charcuteries'\n",
    "acceuil =get_lien(lien)\n",
    "\n",
    "\n",
    "#liste des liens\n",
    "list_lrayon =[]\n",
    "for i in range(1,12):\n",
    "    #liste des rayons principales\n",
    "    rayon_tag = acceuil.find('li', class_=f'range_{i}')\n",
    "    rayon_principal = rayon_tag.text.strip()\n",
    "    \n",
    "    \n",
    "    #liste des  sous rayons \n",
    "    sous_rayon_tag = acceuil.find_all('ul',id=f'familyId_{i}')\n",
    "    #print(sous_rayon_tag)\n",
    "    list_srayon=[]\n",
    "    list_lrayon =[]\n",
    "    for rayon in sous_rayon_tag:\n",
    "        # liste sous rayon\n",
    "        rayon_nom = rayon.text.strip()\n",
    "        #print(rayon_nom)        \n",
    "        list_srayon = Convert(rayon_nom)\n",
    "        for i in range(len(list_srayon)):\n",
    "            dict_rayon = {rayon_principal: list_srayon[i]}\n",
    "            (dict_rayon)\n",
    "        \n",
    "        \n",
    "    #print(list_lrayon)\n",
    "\n",
    "        \n",
    "\n",
    "\n"
   ]
  },
  {
   "cell_type": "markdown",
   "metadata": {},
   "source": [
    "Récupérer lien des rayons"
   ]
  },
  {
   "cell_type": "code",
   "execution_count": 65,
   "metadata": {},
   "outputs": [
    {
     "name": "stdout",
     "output_type": "stream",
     "text": [
      "/local/centre-e-leclerc-montauban-sapiac/intermarche-super-montech/produits-bio/produits-bio\n"
     ]
    }
   ],
   "source": [
    "lien ='https://www.quiestlemoinscher.leclerc/local/centre-e-leclerc-montauban-sapiac/intermarche-super-montech/frais/charcuteries'\n",
    "acceuil =get_lien(lien)\n",
    "\n",
    "sous_rayon_tag = acceuil.find_all('ul',id=f'familyId_1')\n",
    "for rayon in sous_rayon_tag:\n",
    "    \n",
    "    rayon = rayon.li.a[\"href\"]\n",
    "\n",
    "    print(rayon)\n"
   ]
  },
  {
   "cell_type": "code",
   "execution_count": null,
   "metadata": {},
   "outputs": [],
   "source": []
  }
 ],
 "metadata": {
  "kernelspec": {
   "display_name": "Python 3.9.12 ('fvenv')",
   "language": "python",
   "name": "python3"
  },
  "language_info": {
   "codemirror_mode": {
    "name": "ipython",
    "version": 3
   },
   "file_extension": ".py",
   "mimetype": "text/x-python",
   "name": "python",
   "nbconvert_exporter": "python",
   "pygments_lexer": "ipython3",
   "version": "3.9.12"
  },
  "orig_nbformat": 4,
  "vscode": {
   "interpreter": {
    "hash": "657a3d73ffca37dbb1786dc1591fa1696117cb9564d93a013871c4e50d92252a"
   }
  }
 },
 "nbformat": 4,
 "nbformat_minor": 2
}
