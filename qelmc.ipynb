{
 "cells": [
  {
   "cell_type": "code",
   "execution_count": 55,
   "metadata": {},
   "outputs": [],
   "source": [
    "from bs4 import BeautifulSoup\n",
    "import requests\n",
    "import pandas as pd"
   ]
  },
  {
   "cell_type": "markdown",
   "metadata": {},
   "source": [
    "Fonctions récupérer lien"
   ]
  },
  {
   "cell_type": "code",
   "execution_count": 40,
   "metadata": {},
   "outputs": [],
   "source": [
    "def get_lien(lien):\n",
    "    html_text = requests.get(lien).text.encode(\"utf-8\")\n",
    "    acceuil = BeautifulSoup(html_text,'lxml')\n",
    "    return(acceuil)\n"
   ]
  },
  {
   "cell_type": "code",
   "execution_count": 54,
   "metadata": {},
   "outputs": [
    {
     "ename": "TypeError",
     "evalue": "'set' object is not subscriptable",
     "output_type": "error",
     "traceback": [
      "\u001b[1;31m---------------------------------------------------------------------------\u001b[0m",
      "\u001b[1;31mTypeError\u001b[0m                                 Traceback (most recent call last)",
      "\u001b[1;32mc:\\Users\\moula\\Projets_code\\comparateur\\leclerc.ipynb Cellule 4\u001b[0m in \u001b[0;36m<cell line: 4>\u001b[1;34m()\u001b[0m\n\u001b[0;32m     <a href='vscode-notebook-cell:/c%3A/Users/moula/Projets_code/comparateur/leclerc.ipynb#W1sZmlsZQ%3D%3D?line=12'>13</a>\u001b[0m         rayon_nom \u001b[39m=\u001b[39m rayon\u001b[39m.\u001b[39mtext\u001b[39m.\u001b[39mstrip()\u001b[39m.\u001b[39mreplace(\u001b[39m'\u001b[39m\u001b[39m \u001b[39m\u001b[39m'\u001b[39m,\u001b[39m'\u001b[39m\u001b[39m'\u001b[39m)\n\u001b[0;32m     <a href='vscode-notebook-cell:/c%3A/Users/moula/Projets_code/comparateur/leclerc.ipynb#W1sZmlsZQ%3D%3D?line=13'>14</a>\u001b[0m         \u001b[39m#print(f'sous rayon :{rayon_nom}')\u001b[39;00m\n\u001b[1;32m---> <a href='vscode-notebook-cell:/c%3A/Users/moula/Projets_code/comparateur/leclerc.ipynb#W1sZmlsZQ%3D%3D?line=14'>15</a>\u001b[0m         dic_rayon[rayon_principal]\u001b[39m.\u001b[39mappend(rayon_nom)\n\u001b[0;32m     <a href='vscode-notebook-cell:/c%3A/Users/moula/Projets_code/comparateur/leclerc.ipynb#W1sZmlsZQ%3D%3D?line=15'>16</a>\u001b[0m         \u001b[39m#rayon_lien = rayon\u001b[39;00m\n\u001b[0;32m     <a href='vscode-notebook-cell:/c%3A/Users/moula/Projets_code/comparateur/leclerc.ipynb#W1sZmlsZQ%3D%3D?line=16'>17</a>\u001b[0m         \u001b[39m#print(rayon_lien)\u001b[39;00m\n\u001b[0;32m     <a href='vscode-notebook-cell:/c%3A/Users/moula/Projets_code/comparateur/leclerc.ipynb#W1sZmlsZQ%3D%3D?line=17'>18</a>\u001b[0m \u001b[39mprint\u001b[39m(dic_rayon)\n",
      "\u001b[1;31mTypeError\u001b[0m: 'set' object is not subscriptable"
     ]
    }
   ],
   "source": [
    "lien ='https://www.quiestlemoinscher.leclerc/local/centre-e-leclerc-montauban-sapiac/intermarche-super-montech/frais/charcuteries'\n",
    "acceuil =get_lien(lien)\n",
    "\n",
    "for i in range(1,12):\n",
    "    rayon_tag = acceuil.find('li', class_=f'range_{i}')\n",
    "    rayon_principal = rayon_tag.text.strip()\n",
    "    #print(f'rayon principal :{rayon_principal}')\n",
    "    \n",
    "    dic_rayon = np.array(dic_rayon\n",
    "    sous_rayon_tag = acceuil.find_all('ul',id=f'familyId_{i}')\n",
    "    \n",
    "    for rayon in sous_rayon_tag:\n",
    "        rayon_nom = rayon.text.strip().replace(' ','')\n",
    "        #print(f'sous rayon :{rayon_nom}')\n",
    "        dic_rayon[rayon_principal].append(rayon_nom)\n",
    "        #rayon_lien = rayon\n",
    "        #print(rayon_lien)\n",
    "print(dic_rayon)\n",
    "    "
   ]
  },
  {
   "cell_type": "code",
   "execution_count": null,
   "metadata": {},
   "outputs": [],
   "source": []
  }
 ],
 "metadata": {
  "kernelspec": {
   "display_name": "Python 3.9.12 ('fvenv')",
   "language": "python",
   "name": "python3"
  },
  "language_info": {
   "codemirror_mode": {
    "name": "ipython",
    "version": 3
   },
   "file_extension": ".py",
   "mimetype": "text/x-python",
   "name": "python",
   "nbconvert_exporter": "python",
   "pygments_lexer": "ipython3",
   "version": "3.9.12"
  },
  "orig_nbformat": 4,
  "vscode": {
   "interpreter": {
    "hash": "657a3d73ffca37dbb1786dc1591fa1696117cb9564d93a013871c4e50d92252a"
   }
  }
 },
 "nbformat": 4,
 "nbformat_minor": 2
}
