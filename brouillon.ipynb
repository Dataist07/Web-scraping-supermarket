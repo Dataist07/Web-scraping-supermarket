{
 "cells": [
  {
   "cell_type": "code",
   "execution_count": 27,
   "metadata": {},
   "outputs": [],
   "source": [
    "from bs4 import BeautifulSoup\n",
    "import requests\n",
    "import pandas as pd"
   ]
  },
  {
   "attachments": {},
   "cell_type": "markdown",
   "metadata": {},
   "source": [
    "Fonctions utiles"
   ]
  },
  {
   "cell_type": "code",
   "execution_count": 30,
   "metadata": {},
   "outputs": [],
   "source": [
    "def f_html(lien):\n",
    "    return requests.get(lien).text.encode(\"utf-8\")\n",
    "\n",
    "def f_soup(lien):\n",
    "    return BeautifulSoup(f_html(lien),'lxml')\n",
    "\n",
    "def f_convertdict(lst):\n",
    "    res_dct = {lst[i]: lst[i + 1] for i in range(0, len(lst), 2)}\n",
    "    return res_dct\n",
    "\n",
    "def delete_several_cha_from_end(string,n):\n",
    "    for i in range(n):\n",
    "        string = string.rstrip(string[-1])\n",
    "    return string\n",
    "\n",
    "def delete_byindex(string,index):\n",
    "    if len(string) > index:\n",
    "        return string[0 : index : ] + string[index + 1 : :]\n",
    "\n"
   ]
  },
  {
   "cell_type": "markdown",
   "metadata": {},
   "source": [
    "Récupérer nom et lien des rayons"
   ]
  },
  {
   "cell_type": "code",
   "execution_count": 21,
   "metadata": {},
   "outputs": [
    {
     "name": "stdout",
     "output_type": "stream",
     "text": [
      "                 rayon principales  \\\n",
      "0           Jouetsjeuxvidéoloisirs   \n",
      "1                    AucoeurdeNoël   \n",
      "2    Produitslaitiersoeufsfromages   \n",
      "3    Boucherievolaillepoissonnerie   \n",
      "4          Charcuterietraiteurpain   \n",
      "5                    Fruitslégumes   \n",
      "6                         Surgelés   \n",
      "7                   Epiceriesucrée   \n",
      "8                    Epiceriesalée   \n",
      "9            Eauxjussodathésglacés   \n",
      "10               Vinsbièresalcools   \n",
      "11                    Toutpourbébé   \n",
      "12      Hygiènebeautéparapharmacie   \n",
      "13                 Entretienmaison   \n",
      "14                      Animalerie   \n",
      "15   Produitsdumondeetdenosrégions   \n",
      "16                 Bioetécologique   \n",
      "17           Snackingplatscuisinés   \n",
      "18  Régimesalimentairesetnutrition   \n",
      "19                 Jardinautobrico   \n",
      "20      High-techAudioTVtéléphonie   \n",
      "21           Electroménagercuisine   \n",
      "22         Meubledécolingedemaison   \n",
      "23             Modebijouxbagagerie   \n",
      "24                      Nosmarques   \n",
      "25            SAVservicesetvoyages   \n",
      "\n",
      "                                           lien rayon  \n",
      "0   https://www.auchan.fr/jouets-jeux-video-loisir...  \n",
      "1   https://www.auchan.fr/au-coeur-de-noel/ca-b202...  \n",
      "2   https://www.auchan.fr/oeufs-produits-laitiers/...  \n",
      "3   https://www.auchan.fr/boucherie-volaille-poiss...  \n",
      "4   https://www.auchan.fr/charcuterie-traiteur-pai...  \n",
      "5         https://www.auchan.fr/fruits-legumes/ca-n03  \n",
      "6               https://www.auchan.fr/surgeles/ca-n04  \n",
      "7        https://www.auchan.fr/epicerie-sucree/ca-n05  \n",
      "8         https://www.auchan.fr/epicerie-salee/ca-n06  \n",
      "9   https://www.auchan.fr/boissons-sans-alcool/ca-n13  \n",
      "10    https://www.auchan.fr/vins-bieres-alcool/ca-n07  \n",
      "11                  https://www.auchan.fr/bebe/ca-n08  \n",
      "12  https://www.auchan.fr/hygiene-beaute-parapharm...  \n",
      "13      https://www.auchan.fr/entretien-maison/ca-n10  \n",
      "14            https://www.auchan.fr/animalerie/ca-n11  \n",
      "15  https://www.auchan.fr/produits-de-nos-regions-...  \n",
      "16          https://www.auchan.fr/bio-et-ecolo/ca-b01  \n",
      "17  https://www.auchan.fr/snacking-plats-cuisines/...  \n",
      "18  https://www.auchan.fr/regimes-alimentaires-et-...  \n",
      "19  https://www.auchan.fr/jardin-auto-brico/ca-290...  \n",
      "20  https://www.auchan.fr/high-tech-audio-tv-telep...  \n",
      "21  https://www.auchan.fr/electromenager-cuisine/c...  \n",
      "22  https://www.auchan.fr/meuble-deco-linge-de-mai...  \n",
      "23  https://www.auchan.fr/mode-bijoux-bagagerie/ca...  \n",
      "24  https://www.auchan.fr/produits-auchan/ca-b2022...  \n",
      "25                             https://www.auchan.fr#  \n"
     ]
    }
   ],
   "source": [
    "lien ='https://www.auchan.fr'\n",
    "list_rayons_principal=[]\n",
    "def search_rayons(lien):\n",
    "    acceuil = f_soup(lien)\n",
    "    rayon_tag = acceuil.find_all('div',class_='navigation-node trigger-sublevel not-loaded')\n",
    "\n",
    "    for rayon in rayon_tag:\n",
    "\n",
    "        #add nom in list\n",
    "        rayon_principal = rayon.text.strip().replace(' ','').replace(\",\",\"\")\n",
    "\n",
    "        #add lien in list\n",
    "        rayon_lien= rayon.a['href']\n",
    "        rayon_lien =f'{lien}{rayon_lien}'\n",
    "\n",
    "        dict_rayon_principal={\n",
    "            'rayon principales' : rayon_principal,\n",
    "            'lien rayon' : rayon_lien \n",
    "        }\n",
    "        list_rayons_principal.append(dict_rayon_principal)\n",
    "    return\n",
    "\n",
    "    \n",
    "search_rayons(lien)\n",
    "df = pd.DataFrame(list_rayons_principal)\n",
    "#df.to_csv('rayons.csv')\n",
    "print(df)"
   ]
  },
  {
   "attachments": {},
   "cell_type": "markdown",
   "metadata": {},
   "source": [
    "Récupérer noms des sous rayons"
   ]
  },
  {
   "cell_type": "code",
   "execution_count": 45,
   "metadata": {},
   "outputs": [
    {
     "data": {
      "text/plain": [
       "[{'sous rayon': 'Boucherievolaillepoissonbioetlabel',\n",
       "  'lien sous rayon': 'https://www.auchan.fr/boucherie-volaille-poissonnerie/boucherie-volaille-poisson-bio-et-label/ca-n0207'},\n",
       " {'sous rayon': 'Volaillelapin',\n",
       "  'lien sous rayon': 'https://www.auchan.fr/boucherie-volaille-poissonnerie/volaille-lapin/ca-n0202'},\n",
       " {'sous rayon': 'Boucherie',\n",
       "  'lien sous rayon': 'https://www.auchan.fr/boucherie-volaille-poissonnerie/boucherie/ca-n0201'},\n",
       " {'sous rayon': 'PoissonscrustacÃ©s',\n",
       "  'lien sous rayon': 'https://www.auchan.fr/boucherie-volaille-poissonnerie/poissons-crustaces/ca-n0203'},\n",
       " {'sous rayon': 'Traiteurdelamer',\n",
       "  'lien sous rayon': 'https://www.auchan.fr/boucherie-volaille-poissonnerie/traiteur-de-la-mer/ca-n0204'}]"
      ]
     },
     "execution_count": 45,
     "metadata": {},
     "output_type": "execute_result"
    }
   ],
   "source": [
    "lien = 'https://www.auchan.fr/boucherie-volaille-poissonnerie/ca-n02'\n",
    "list_sous_rayon = []\n",
    "def search_sous_rayon (lien,lienp ='https://www.auchan.fr'):\n",
    "    soup = f_soup(lien)\n",
    "    rayon_sous_tag = soup.find_all('div', class_='universe-block')\n",
    "    for rayon_sous in rayon_sous_tag:\n",
    "\n",
    "        # add name of sub rayon\n",
    "        nom_rayon_sous = rayon_sous.find('div', class_='universe-block__title')\n",
    "        nom_rayon_sous = nom_rayon_sous.text.strip().replace(' ','').replace(',','')\n",
    "        \n",
    "        #add link of sub rayon\n",
    "        lien_sous_rayon = rayon_sous.a['href']\n",
    "        lien_sous_rayon =f'{lienp}{lien_sous_rayon}'\n",
    "        \n",
    "        dict_rayon_sous={\n",
    "            'sous rayon' : nom_rayon_sous,\n",
    "            'lien sous rayon' : lien_sous_rayon\n",
    "        }\n",
    "        list_sous_rayon.append(dict_rayon_sous)\n",
    "    return\n",
    "\n",
    "\n",
    "\n",
    "search_sous_rayon(lien)\n",
    "list_sous_rayon\n"
   ]
  },
  {
   "attachments": {},
   "cell_type": "markdown",
   "metadata": {},
   "source": [
    "Récupérer produits"
   ]
  },
  {
   "cell_type": "code",
   "execution_count": 161,
   "metadata": {},
   "outputs": [
    {
     "name": "stdout",
     "output_type": "stream",
     "text": [
      "['AUCHANLETRAITEUR,Nemsaupoulet,4piÃ¨ces4x65g', 'AUCHANLETRAITEUR,Nemsauporc,4x65g', 'AUCHANLEPOISSONNIER,AuchanLePoissonnierFiletdemerlumeuniÃ¨rex2-220g,2piÃ¨ces220g', 'ASSIETTEBLEUE,CrevettesnaturedÃ©cortiquÃ©escuitesbio,100g', 'SUSHISHOP,Pokebowlausaumon,358g', 'SUSHISHOP,Californiaveggie6piÃ¨ces,6piÃ¨ces125g', 'SUSHIGOURMET,BoxBlackFriday,40piÃ¨ces820g', 'SUSHISHOP,Gingembre,190g', 'SUSHIGOURMET,PlateauSoirÃ©eSushiParty,500g', 'SUSHIGOURMET,BoxdumoisKOYOAssortiment,12piÃ¨ces319g', 'SUSHIGOURMET,Boxdumois,15piÃ¨ces330g', 'SUSHIGOURMET,Saladechoux,115g', 'SUSHIGOURMET,Plateaupassion,18piÃ¨ces410g', 'SUSHIGOURMET,Californiaausaumon,6piÃ¨ces140g', 'SUSHIGOURMET,Crunchtuna,6piÃ¨ces210g', 'SUSHISHOP,Californiaausaumon6piÃ¨ces,6piÃ¨ces120g', 'SUSHISHOP,Sushiausaumon10piÃ¨ces,10piÃ¨ces216g', 'SUSHISHOP,Signaturerollscrispyausaumon8piÃ¨ces,8piÃ¨ces181g', 'SUSHISHOP,Signaturerollscrispyauchicken8piÃ¨ces,8piÃ¨ces194g', 'SUSHISHOP,NouillessautÃ©esauxcrevettestempura,308g', 'SUSHISHOP,Justsalmon18piÃ¨ces,18piÃ¨ces379g', 'SUSHISHOP,Nofish15piÃ¨ces,15piÃ¨ces313g', 'SUSHISHOP,Saladedechou,90g', 'SUSHIGOURMET,Plateausushiausaumon,10piÃ¨ces300g', 'SUSHISHOP,Gyozasaupoulet6piÃ¨ces,6piÃ¨ces108g', 'SUSHISHOP,ChirashimarinÃ©ausaumon,362g', 'SUSHISHOP,Bestof12piÃ¨ces,12piÃ¨ces249g', 'SUSHIGOURMET,Crunchsalmon,6piÃ¨ces210g', 'SUSHISHOP,Salmondream24piÃ¨ces,24piÃ¨ces462g', 'SUSHISHOP,Brochettesdepouletyakitori,218g']\n"
     ]
    }
   ],
   "source": [
    "\n",
    "acceuil = f_soup(lien_srayon)\n",
    "produits = acceuil.find_all('div',class_=\"product-thumbnail__details\")\n",
    "#print(produits)\n",
    "\n",
    "produit_list =[]\n",
    "for produit in produits:\n",
    "\n",
    "    produit = produit.text.replace(' ','').replace('\\n',',')\n",
    "    produit_list.append(produit)\n",
    "    #print(produit)\n",
    "\n",
    "print(produit_list)\n"
   ]
  },
  {
   "cell_type": "code",
   "execution_count": null,
   "metadata": {},
   "outputs": [],
   "source": []
  },
  {
   "cell_type": "code",
   "execution_count": null,
   "metadata": {},
   "outputs": [],
   "source": []
  },
  {
   "cell_type": "code",
   "execution_count": 80,
   "metadata": {},
   "outputs": [],
   "source": [
    "lien_rayon_viande = rayon_dict[\"Boucherievolaillepoissonnerie\"]\n",
    "acceuil = f_soup(lien_rayon_viande)\n",
    "\n",
    "srayon_tag = acceuil.find_all('div',class_='flex-wrapper')\n",
    "#print(srayon_tag)"
   ]
  }
 ],
 "metadata": {
  "kernelspec": {
   "display_name": "Python 3.9.12 ('fvenv')",
   "language": "python",
   "name": "python3"
  },
  "language_info": {
   "codemirror_mode": {
    "name": "ipython",
    "version": 3
   },
   "file_extension": ".py",
   "mimetype": "text/x-python",
   "name": "python",
   "nbconvert_exporter": "python",
   "pygments_lexer": "ipython3",
   "version": "3.9.12"
  },
  "orig_nbformat": 4,
  "vscode": {
   "interpreter": {
    "hash": "657a3d73ffca37dbb1786dc1591fa1696117cb9564d93a013871c4e50d92252a"
   }
  }
 },
 "nbformat": 4,
 "nbformat_minor": 2
}
