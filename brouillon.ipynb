{
 "cells": [
  {
   "cell_type": "code",
   "execution_count": 1,
   "metadata": {},
   "outputs": [],
   "source": [
    "from bs4 import BeautifulSoup\n",
    "import requests\n",
    "import mysql.connector"
   ]
  },
  {
   "cell_type": "code",
   "execution_count": 9,
   "metadata": {},
   "outputs": [
    {
     "name": "stdout",
     "output_type": "stream",
     "text": [
      "(1, 'BioetÃ©cologique')\n",
      "(2, 'JouetsjeuxvidÃ©oloisirs')\n",
      "(3, 'Produitslaitiersoeufsfromages')\n",
      "(4, 'Boucherievolaillepoissonnerie')\n",
      "(5, 'Charcuterietraiteurpain')\n",
      "(6, 'FruitslÃ©gumes')\n",
      "(7, 'SurgelÃ©s')\n",
      "(8, 'EpiceriesucrÃ©e')\n",
      "(9, 'EpiceriesalÃ©e')\n",
      "(10, 'EauxjussodathÃ©sglacÃ©s')\n",
      "(11, 'VinsbiÃ¨resalcools')\n",
      "(12, 'ToutpourbÃ©bÃ©')\n",
      "(13, 'HygiÃ¨nebeautÃ©parapharmacie')\n",
      "(14, 'Entretienmaison')\n",
      "(15, 'Animalerie')\n",
      "(16, 'ProduitsdumondeetdenosrÃ©gions')\n",
      "(17, 'SnackingplatscuisinÃ©s')\n",
      "(18, 'RÃ©gimesalimentairesetnutrition')\n",
      "(19, 'Jardinautobrico')\n",
      "(20, 'High-techAudioTVtÃ©lÃ©phonie')\n",
      "(21, 'ElectromÃ©nagercuisine')\n",
      "(22, 'MeubledÃ©colingedemaison')\n",
      "(23, 'Modebijouxbagagerie')\n",
      "(24, 'Nosmarques')\n",
      "(25, 'SAVservicesetvoyages')\n"
     ]
    }
   ],
   "source": [
    "db = mysql.connector.connect(\n",
    "\thost = \"localhost\",\n",
    "\tuser = \"minh\",\n",
    "\tpasswd = \"minh\",\n",
    "\tdatabase = \"auchandb\"\n",
    "\t)\n",
    "\n",
    "mycursor = db.cursor()\n",
    "\n",
    "#mycursor.execute(\"CREATE TABLE rayon(id INT PRIMARY KEY AUTO_INCREMENT, nom VARCHAR (50) NOT NULL)\")\n",
    "#mycursor.execute(\"ALTER TABLE rayon CHANGE nom nom VARCHAR(100)\")\n",
    "#mycursor.executemany(\"INSERT INTO rayon (nom) VALUES (%s)\",rayon_list)\n",
    "#db.commit()\n",
    "\n",
    "mycursor.execute(\"SELECT * FROM rayon\")\n",
    "for x in mycursor:\n",
    "    print(x)\n"
   ]
  },
  {
   "cell_type": "code",
   "execution_count": 6,
   "metadata": {},
   "outputs": [
    {
     "data": {
      "text/plain": [
       "[('BioetÃ©cologique',),\n",
       " ('JouetsjeuxvidÃ©oloisirs',),\n",
       " ('Produitslaitiersoeufsfromages',),\n",
       " ('Boucherievolaillepoissonnerie',),\n",
       " ('Charcuterietraiteurpain',),\n",
       " ('FruitslÃ©gumes',),\n",
       " ('SurgelÃ©s',),\n",
       " ('EpiceriesucrÃ©e',),\n",
       " ('EpiceriesalÃ©e',),\n",
       " ('EauxjussodathÃ©sglacÃ©s',),\n",
       " ('VinsbiÃ¨resalcools',),\n",
       " ('ToutpourbÃ©bÃ©',),\n",
       " ('HygiÃ¨nebeautÃ©parapharmacie',),\n",
       " ('Entretienmaison',),\n",
       " ('Animalerie',),\n",
       " ('ProduitsdumondeetdenosrÃ©gions',),\n",
       " ('SnackingplatscuisinÃ©s',),\n",
       " ('RÃ©gimesalimentairesetnutrition',),\n",
       " ('Jardinautobrico',),\n",
       " ('High-techAudioTVtÃ©lÃ©phonie',),\n",
       " ('ElectromÃ©nagercuisine',),\n",
       " ('MeubledÃ©colingedemaison',),\n",
       " ('Modebijouxbagagerie',),\n",
       " ('Nosmarques',),\n",
       " ('SAVservicesetvoyages',)]"
      ]
     },
     "execution_count": 6,
     "metadata": {},
     "output_type": "execute_result"
    }
   ],
   "source": [
    "html_text = requests.get('https://www.auchan.fr/').text.encode(\"utf-8\")\n",
    "acceuil = BeautifulSoup(html_text,'lxml')\n",
    "\n",
    "rayon_tag = acceuil.find_all('div',class_='navigation-node trigger-sublevel not-loaded')\n",
    "\n",
    "rayon_list=[]\n",
    "for i,rayon in enumerate(rayon_tag):\n",
    "    rayon_nom = rayon.text.strip().replace(' ','').replace(\",\",\"\")\n",
    "    rayon_nom = rayon_nom.replace(\"'\",\"\"),\n",
    "    rayon_list.append(rayon_nom)\n",
    "\n",
    "type(rayon_list[0])\n",
    "rayon_list"
   ]
  },
  {
   "cell_type": "code",
   "execution_count": 7,
   "metadata": {},
   "outputs": [],
   "source": [
    "\n"
   ]
  },
  {
   "cell_type": "code",
   "execution_count": 40,
   "metadata": {},
   "outputs": [
    {
     "name": "stdout",
     "output_type": "stream",
     "text": [
      "<class 'tuple'>\n"
     ]
    }
   ],
   "source": []
  },
  {
   "cell_type": "code",
   "execution_count": null,
   "metadata": {},
   "outputs": [],
   "source": []
  }
 ],
 "metadata": {
  "kernelspec": {
   "display_name": "Python 3.9.12 ('fvenv')",
   "language": "python",
   "name": "python3"
  },
  "language_info": {
   "codemirror_mode": {
    "name": "ipython",
    "version": 3
   },
   "file_extension": ".py",
   "mimetype": "text/x-python",
   "name": "python",
   "nbconvert_exporter": "python",
   "pygments_lexer": "ipython3",
   "version": "3.9.12"
  },
  "orig_nbformat": 4,
  "vscode": {
   "interpreter": {
    "hash": "657a3d73ffca37dbb1786dc1591fa1696117cb9564d93a013871c4e50d92252a"
   }
  }
 },
 "nbformat": 4,
 "nbformat_minor": 2
}
