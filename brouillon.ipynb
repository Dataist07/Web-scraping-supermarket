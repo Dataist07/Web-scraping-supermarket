{
 "cells": [
  {
   "cell_type": "code",
   "execution_count": 99,
   "metadata": {},
   "outputs": [],
   "source": [
    "from bs4 import BeautifulSoup\n",
    "import requests"
   ]
  },
  {
   "cell_type": "code",
   "execution_count": 100,
   "metadata": {},
   "outputs": [],
   "source": [
    "def f_html(lien):\n",
    "    return requests.get(lien).text.encode(\"utf-8\")\n",
    "\n",
    "def f_soup(lien):\n",
    "    return BeautifulSoup(f_html(lien),'lxml')\n",
    "\n",
    "def f_convertdict(lst):\n",
    "    res_dct = {lst[i]: lst[i + 1] for i in range(0, len(lst), 2)}\n",
    "    return res_dct\n",
    "\n",
    "def delete_several_cha_from_end(string,n):\n",
    "    for i in range(n):\n",
    "        string = string.rstrip(string[-1])\n",
    "\n",
    "    return string\n",
    "\n",
    "def delete_byindex(string,index):\n",
    "    if len(string) > index:\n",
    "        return string[0 : index : ] + string[index + 1 : :]"
   ]
  },
  {
   "cell_type": "code",
   "execution_count": 92,
   "metadata": {},
   "outputs": [],
   "source": [
    "lien ='https://www.auchan.fr/'\n",
    "acceuil = f_soup(lien)"
   ]
  },
  {
   "cell_type": "code",
   "execution_count": 93,
   "metadata": {},
   "outputs": [
    {
     "name": "stdout",
     "output_type": "stream",
     "text": [
      "{'JouetsjeuxvidÃ©oloisirs': 'https://www.auchan.fr//jouets-jeux-video-loisirs/ca-101042021', 'AucoeurdeNoÃ«l': 'https://www.auchan.fr//au-coeur-de-noel/ca-b202011041100', 'Produitslaitiersoeufsfromages': 'https://www.auchan.fr//oeufs-produits-laitiers/ca-n01', 'Boucherievolaillepoissonnerie': 'https://www.auchan.fr//boucherie-volaille-poissonnerie/ca-n02', 'Charcuterietraiteurpain': 'https://www.auchan.fr//charcuterie-traiteur-pain/ca-n12', 'FruitslÃ©gumes': 'https://www.auchan.fr//fruits-legumes/ca-n03', 'SurgelÃ©s': 'https://www.auchan.fr//surgeles/ca-n04', 'EpiceriesucrÃ©e': 'https://www.auchan.fr//epicerie-sucree/ca-n05', 'EpiceriesalÃ©e': 'https://www.auchan.fr//epicerie-salee/ca-n06', 'EauxjussodathÃ©sglacÃ©s': 'https://www.auchan.fr//boissons-sans-alcool/ca-n13', 'VinsbiÃ¨resalcools': 'https://www.auchan.fr//vins-bieres-alcool/ca-n07', 'ToutpourbÃ©bÃ©': 'https://www.auchan.fr//bebe/ca-n08', 'HygiÃ¨nebeautÃ©parapharmacie': 'https://www.auchan.fr//hygiene-beaute-parapharmacie/ca-n09', 'Entretienmaison': 'https://www.auchan.fr//entretien-maison/ca-n10', 'Animalerie': 'https://www.auchan.fr//animalerie/ca-n11', 'ProduitsdumondeetdenosrÃ©gions': 'https://www.auchan.fr//produits-de-nos-regions-et-du-monde/ca-b08', 'BioetÃ©cologique': 'https://www.auchan.fr//bio-et-ecolo/ca-b01', 'SnackingplatscuisinÃ©s': 'https://www.auchan.fr//snacking-plats-cuisines/ca-b12', 'RÃ©gimesalimentairesetnutrition': 'https://www.auchan.fr//regimes-alimentaires-et-nutrition/ca-b02', 'Jardinautobrico': 'https://www.auchan.fr//jardin-auto-brico/ca-2903202116100', 'High-techAudioTVtÃ©lÃ©phonie': 'https://www.auchan.fr//high-tech-audio-tv-telephonie/ca-29032021170201', 'ElectromÃ©nagercuisine': 'https://www.auchan.fr//electromenager-cuisine/ca-201612151000', 'MeubledÃ©colingedemaison': 'https://www.auchan.fr//meuble-deco-linge-de-maison/ca-302202115', 'Modebijouxbagagerie': 'https://www.auchan.fr//mode-bijoux-bagagerie/ca-31032021153703', 'Nosmarques': 'https://www.auchan.fr//produits-auchan/ca-b202209131609', 'SAVservicesetvoyages': 'https://www.auchan.fr/#'}\n"
     ]
    }
   ],
   "source": [
    "rayon_tag = acceuil.find_all('div',class_='navigation-node trigger-sublevel not-loaded')\n",
    "#print(rayon_tag)\n",
    "\n",
    "rayon_list=[]\n",
    "\n",
    "for i,rayon in enumerate(rayon_tag):\n",
    "\n",
    "    #add nom in list\n",
    "    rayon_nom = rayon.text.strip().replace(' ','').replace(\",\",\"\")\n",
    "    rayon_list.append(rayon_nom)\n",
    "\n",
    "    #add lien in list\n",
    "    rayon_lien= rayon.a['href']\n",
    "    rayon_list.append(f'{lien}{rayon_lien}')\n",
    "\n",
    "\n",
    "rayon_dict = f_convertdict(rayon_list)\n",
    "\n",
    "print(rayon_dict)\n"
   ]
  },
  {
   "cell_type": "code",
   "execution_count": 160,
   "metadata": {},
   "outputs": [
    {
     "data": {
      "text/plain": [
       "'https://www.auchan.fr/boucherie-volaille-poissonnerie/traiteur-de-la-mer/ca-n0204'"
      ]
     },
     "execution_count": 160,
     "metadata": {},
     "output_type": "execute_result"
    }
   ],
   "source": [
    "list_srayon_viande = ['boucherie-volaille-poisson-bio-et-label/ca-n0207','volaille-lapin/ca-n0202','boucherie/ca-n0201','poissons-crustaces/ca-n0203','traiteur-de-la-mer/ca-n0204']\n",
    "\n",
    "lien_rayon_viande = rayon_dict[\"Boucherievolaillepoissonnerie\"]\n",
    "lien_rayon_viande = delete_several_cha_from_end(lien_rayon_viande,6)\n",
    "\n",
    "lien_srayon = f'{lien_rayon_viande}{list_srayon_viande[4]}'\n",
    "lien_srayon = delete_byindex(lien_srayon,21)\n",
    "lien_srayon"
   ]
  },
  {
   "cell_type": "code",
   "execution_count": 161,
   "metadata": {},
   "outputs": [
    {
     "name": "stdout",
     "output_type": "stream",
     "text": [
      "['AUCHANLETRAITEUR,Nemsaupoulet,4piÃ¨ces4x65g', 'AUCHANLETRAITEUR,Nemsauporc,4x65g', 'AUCHANLEPOISSONNIER,AuchanLePoissonnierFiletdemerlumeuniÃ¨rex2-220g,2piÃ¨ces220g', 'ASSIETTEBLEUE,CrevettesnaturedÃ©cortiquÃ©escuitesbio,100g', 'SUSHISHOP,Pokebowlausaumon,358g', 'SUSHISHOP,Californiaveggie6piÃ¨ces,6piÃ¨ces125g', 'SUSHIGOURMET,BoxBlackFriday,40piÃ¨ces820g', 'SUSHISHOP,Gingembre,190g', 'SUSHIGOURMET,PlateauSoirÃ©eSushiParty,500g', 'SUSHIGOURMET,BoxdumoisKOYOAssortiment,12piÃ¨ces319g', 'SUSHIGOURMET,Boxdumois,15piÃ¨ces330g', 'SUSHIGOURMET,Saladechoux,115g', 'SUSHIGOURMET,Plateaupassion,18piÃ¨ces410g', 'SUSHIGOURMET,Californiaausaumon,6piÃ¨ces140g', 'SUSHIGOURMET,Crunchtuna,6piÃ¨ces210g', 'SUSHISHOP,Californiaausaumon6piÃ¨ces,6piÃ¨ces120g', 'SUSHISHOP,Sushiausaumon10piÃ¨ces,10piÃ¨ces216g', 'SUSHISHOP,Signaturerollscrispyausaumon8piÃ¨ces,8piÃ¨ces181g', 'SUSHISHOP,Signaturerollscrispyauchicken8piÃ¨ces,8piÃ¨ces194g', 'SUSHISHOP,NouillessautÃ©esauxcrevettestempura,308g', 'SUSHISHOP,Justsalmon18piÃ¨ces,18piÃ¨ces379g', 'SUSHISHOP,Nofish15piÃ¨ces,15piÃ¨ces313g', 'SUSHISHOP,Saladedechou,90g', 'SUSHIGOURMET,Plateausushiausaumon,10piÃ¨ces300g', 'SUSHISHOP,Gyozasaupoulet6piÃ¨ces,6piÃ¨ces108g', 'SUSHISHOP,ChirashimarinÃ©ausaumon,362g', 'SUSHISHOP,Bestof12piÃ¨ces,12piÃ¨ces249g', 'SUSHIGOURMET,Crunchsalmon,6piÃ¨ces210g', 'SUSHISHOP,Salmondream24piÃ¨ces,24piÃ¨ces462g', 'SUSHISHOP,Brochettesdepouletyakitori,218g']\n"
     ]
    }
   ],
   "source": [
    "acceuil = f_soup(lien_srayon)\n",
    "produits = acceuil.find_all('div',class_=\"product-thumbnail__details\")\n",
    "#print(produits)\n",
    "\n",
    "produit_list =[]\n",
    "for produit in produits:\n",
    "\n",
    "    produit = produit.text.replace(' ','').replace('\\n',',')\n",
    "    produit_list.append(produit)\n",
    "    #print(produit)\n",
    "\n",
    "print(produit_list)\n"
   ]
  },
  {
   "cell_type": "code",
   "execution_count": null,
   "metadata": {},
   "outputs": [],
   "source": []
  },
  {
   "cell_type": "code",
   "execution_count": null,
   "metadata": {},
   "outputs": [],
   "source": []
  },
  {
   "cell_type": "code",
   "execution_count": 80,
   "metadata": {},
   "outputs": [],
   "source": [
    "lien_rayon_viande = rayon_dict[\"Boucherievolaillepoissonnerie\"]\n",
    "acceuil = f_soup(lien_rayon_viande)\n",
    "\n",
    "srayon_tag = acceuil.find_all('div',class_='flex-wrapper')\n",
    "#print(srayon_tag)"
   ]
  }
 ],
 "metadata": {
  "kernelspec": {
   "display_name": "Python 3.9.12 ('fvenv')",
   "language": "python",
   "name": "python3"
  },
  "language_info": {
   "codemirror_mode": {
    "name": "ipython",
    "version": 3
   },
   "file_extension": ".py",
   "mimetype": "text/x-python",
   "name": "python",
   "nbconvert_exporter": "python",
   "pygments_lexer": "ipython3",
   "version": "3.9.12"
  },
  "orig_nbformat": 4,
  "vscode": {
   "interpreter": {
    "hash": "657a3d73ffca37dbb1786dc1591fa1696117cb9564d93a013871c4e50d92252a"
   }
  }
 },
 "nbformat": 4,
 "nbformat_minor": 2
}
