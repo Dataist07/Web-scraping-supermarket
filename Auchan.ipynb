{
 "cells": [
  {
   "cell_type": "code",
   "execution_count": 12,
   "metadata": {},
   "outputs": [],
   "source": [
    "from bs4 import BeautifulSoup\n",
    "import requests\n",
    "import pandas as pd"
   ]
  },
  {
   "attachments": {},
   "cell_type": "markdown",
   "metadata": {},
   "source": [
    "Fonctions utiles"
   ]
  },
  {
   "cell_type": "code",
   "execution_count": 13,
   "metadata": {},
   "outputs": [],
   "source": [
    "def f_html(lien):\n",
    "    return requests.get(lien).text.encode(\"utf-8\")\n",
    "\n",
    "def f_soup(lien):\n",
    "    return BeautifulSoup(f_html(lien),'lxml')\n",
    "\n",
    "def f_convertdict(lst):\n",
    "    res_dct = {lst[i]: lst[i + 1] for i in range(0, len(lst), 2)}\n",
    "    return res_dct\n",
    "\n",
    "def delete_several_cha_from_end(string,n):\n",
    "    for i in range(n):\n",
    "        string = string.rstrip(string[-1])\n",
    "    return string\n",
    "\n",
    "def delete_byindex(string,index):\n",
    "    if len(string) > index:\n",
    "        return string[0 : index : ] + string[index + 1 : :]\n",
    "\n"
   ]
  },
  {
   "cell_type": "markdown",
   "metadata": {},
   "source": [
    "Récupérer nom et lien des rayons"
   ]
  },
  {
   "cell_type": "code",
   "execution_count": 14,
   "metadata": {},
   "outputs": [],
   "source": [
    "def search_rayons(lien,list_rayons_principal=[]):\n",
    "    acceuil = f_soup(lien)\n",
    "    rayon_tag = acceuil.find_all('div',class_='navigation-node trigger-sublevel not-loaded')\n",
    "\n",
    "    for rayon in rayon_tag:\n",
    "\n",
    "        #add nom in list\n",
    "        rayon_principal = rayon.text.strip().replace(' ','').replace(\",\",\"\")\n",
    "\n",
    "        #add lien in list\n",
    "        rayon_lien= rayon.a['href']\n",
    "        rayon_lien =f'{lien}{rayon_lien}'\n",
    "\n",
    "        dict_rayon_principal={\n",
    "            'rayon principal' : rayon_principal,\n",
    "            'lien rayon' : rayon_lien \n",
    "        }\n",
    "        list_rayons_principal.append(dict_rayon_principal)\n",
    "\n",
    "    return list_rayons_principal"
   ]
  },
  {
   "attachments": {},
   "cell_type": "markdown",
   "metadata": {},
   "source": [
    "Récupérer noms des sous rayons"
   ]
  },
  {
   "cell_type": "code",
   "execution_count": 15,
   "metadata": {},
   "outputs": [],
   "source": [
    "def search_sous_rayon (lien,lienp ='https://www.auchan.fr',list_sous_rayon=[]):\n",
    "    soup = f_soup(lien)\n",
    "    rayon_sous_tag = soup.find_all('div', class_='universe-block')\n",
    "    for rayon_sous in rayon_sous_tag:\n",
    "\n",
    "        # add name of sub rayon\n",
    "        nom_rayon_sous = rayon_sous.find('div', class_='universe-block__title')\n",
    "        nom_rayon_sous = nom_rayon_sous.text.strip().replace(' ','').replace(',','')\n",
    "        \n",
    "        #add link of sub rayon\n",
    "        lien_sous_rayon = rayon_sous.a['href']\n",
    "        lien_sous_rayon =f'{lienp}{lien_sous_rayon}'\n",
    "        \n",
    "        dict_rayon_sous={\n",
    "            'sous rayon' : nom_rayon_sous,\n",
    "            'lien sous rayon' : lien_sous_rayon\n",
    "        }\n",
    "        \n",
    "        list_sous_rayon.append(dict_rayon_sous)\n",
    "\n",
    "    return list_sous_rayon"
   ]
  },
  {
   "attachments": {},
   "cell_type": "markdown",
   "metadata": {},
   "source": [
    "Assemble list rayon principal et sous rayon"
   ]
  },
  {
   "cell_type": "code",
   "execution_count": 16,
   "metadata": {},
   "outputs": [
    {
     "name": "stdout",
     "output_type": "stream",
     "text": [
      "            rayon principal  \\\n",
      "0    Jouetsjeuxvidéoloisirs   \n",
      "1             AucoeurdeNoël   \n",
      "2             AucoeurdeNoël   \n",
      "3             AucoeurdeNoël   \n",
      "4             AucoeurdeNoël   \n",
      "..                      ...   \n",
      "73    Electroménagercuisine   \n",
      "74  Meubledécolingedemaison   \n",
      "75      Modebijouxbagagerie   \n",
      "76               Nosmarques   \n",
      "77     SAVservicesetvoyages   \n",
      "\n",
      "                                           lien rayon  \\\n",
      "0   https://www.auchan.fr/jouets-jeux-video-loisir...   \n",
      "1   https://www.auchan.fr/au-coeur-de-noel/ca-b202...   \n",
      "2   https://www.auchan.fr/au-coeur-de-noel/ca-b202...   \n",
      "3   https://www.auchan.fr/au-coeur-de-noel/ca-b202...   \n",
      "4   https://www.auchan.fr/au-coeur-de-noel/ca-b202...   \n",
      "..                                                ...   \n",
      "73  https://www.auchan.fr/electromenager-cuisine/c...   \n",
      "74  https://www.auchan.fr/meuble-deco-linge-de-mai...   \n",
      "75  https://www.auchan.fr/mode-bijoux-bagagerie/ca...   \n",
      "76  https://www.auchan.fr/produits-auchan/ca-b2022...   \n",
      "77                             https://www.auchan.fr#   \n",
      "\n",
      "                      sous rayon  \\\n",
      "0                            N/A   \n",
      "1                   RepasdefÃªte   \n",
      "2   VinschampagnesbiÃ¨resalcools   \n",
      "3         Chocolatsdefind'annÃ©e   \n",
      "4                  MaisondeNoÃ«l   \n",
      "..                           ...   \n",
      "73                           N/A   \n",
      "74                           N/A   \n",
      "75                           N/A   \n",
      "76                           N/A   \n",
      "77                           N/A   \n",
      "\n",
      "                                      lien sous rayon  \n",
      "0                                                 N/A  \n",
      "1   https://www.auchan.fr/au-coeur-de-noel/repas-d...  \n",
      "2   https://www.auchan.fr/au-coeur-de-noel/vins-ch...  \n",
      "3   https://www.auchan.fr/au-coeur-de-noel/chocola...  \n",
      "4   https://www.auchan.fr/au-coeur-de-noel/maison-...  \n",
      "..                                                ...  \n",
      "73                                                N/A  \n",
      "74                                                N/A  \n",
      "75                                                N/A  \n",
      "76                                                N/A  \n",
      "77                                                N/A  \n",
      "\n",
      "[78 rows x 4 columns]\n"
     ]
    }
   ],
   "source": [
    "def assemble_rayonp_rayons(lien):\n",
    "    #initialize dataframe \n",
    "    df_all_rayon = pd.DataFrame(columns = ['rayon principal', 'lien rayon', 'sous rayon', 'lien sous rayon'])\n",
    " \n",
    "    #search rayons principal\n",
    "    df_rayon_principal = pd.DataFrame(search_rayons(lien))\n",
    "\n",
    "    for i,lien_rayon in enumerate(df_rayon_principal['lien rayon']):\n",
    "\n",
    "        list_rayon_sous = search_sous_rayon(lien_rayon)\n",
    "\n",
    "        if len(list_rayon_sous) == 0:\n",
    "            list_rayon = [{\n",
    "                'rayon principal' : df_rayon_principal.iloc[i]['rayon principal'],\n",
    "                'lien rayon' : df_rayon_principal.iloc[i]['lien rayon'],\n",
    "                'sous rayon' : 'N/A',\n",
    "                'lien sous rayon' :'N/A'}]\n",
    "            df_rayon = pd.DataFrame(list_rayon)\n",
    "            df_all_rayon = pd.concat([df_all_rayon,df_rayon],ignore_index=True)\n",
    "\n",
    "\n",
    "        else : \n",
    "            for k,sous_rayon in enumerate(list_rayon_sous):\n",
    "\n",
    "                df_sous_rayon = pd.DataFrame([sous_rayon])\n",
    "    \n",
    "                list_rayon = [{\n",
    "                    'rayon principal' : df_rayon_principal.iloc[i]['rayon principal'],\n",
    "                    'lien rayon' : df_rayon_principal.iloc[i]['lien rayon'],\n",
    "                    'sous rayon' : df_sous_rayon.iloc[0]['sous rayon'],\n",
    "                    'lien sous rayon' : df_sous_rayon.iloc[0]['lien sous rayon']}]\n",
    "                df_rayon = pd.DataFrame(list_rayon)\n",
    "                df_all_rayon = pd.concat([df_all_rayon,df_rayon],ignore_index=True)\n",
    "                \n",
    "        list_rayon_sous.clear()\n",
    "\n",
    "    return df_all_rayon\n",
    "\n",
    "lien ='https://www.auchan.fr'\n",
    "df_all_rayon = assemble_rayonp_rayons(lien)\n",
    "#df_all_rayon.to_csv(\"list_all_rayon.csv\")\n",
    "print(df_all_rayon)\n",
    "\n"
   ]
  },
  {
   "attachments": {},
   "cell_type": "markdown",
   "metadata": {},
   "source": [
    "Récupérer produits"
   ]
  },
  {
   "cell_type": "code",
   "execution_count": 17,
   "metadata": {},
   "outputs": [
    {
     "ename": "NameError",
     "evalue": "name 'lien_srayon' is not defined",
     "output_type": "error",
     "traceback": [
      "\u001b[1;31m---------------------------------------------------------------------------\u001b[0m",
      "\u001b[1;31mNameError\u001b[0m                                 Traceback (most recent call last)",
      "\u001b[1;32mc:\\Users\\moula\\Projets_code\\comparateur\\Auchan.ipynb Cell 11\u001b[0m in \u001b[0;36m<cell line: 1>\u001b[1;34m()\u001b[0m\n\u001b[1;32m----> <a href='vscode-notebook-cell:/c%3A/Users/moula/Projets_code/comparateur/Auchan.ipynb#X13sZmlsZQ%3D%3D?line=0'>1</a>\u001b[0m acceuil \u001b[39m=\u001b[39m f_soup(lien_srayon)\n\u001b[0;32m      <a href='vscode-notebook-cell:/c%3A/Users/moula/Projets_code/comparateur/Auchan.ipynb#X13sZmlsZQ%3D%3D?line=1'>2</a>\u001b[0m produits \u001b[39m=\u001b[39m acceuil\u001b[39m.\u001b[39mfind_all(\u001b[39m'\u001b[39m\u001b[39mdiv\u001b[39m\u001b[39m'\u001b[39m,class_\u001b[39m=\u001b[39m\u001b[39m\"\u001b[39m\u001b[39mproduct-thumbnail__details\u001b[39m\u001b[39m\"\u001b[39m)\n\u001b[0;32m      <a href='vscode-notebook-cell:/c%3A/Users/moula/Projets_code/comparateur/Auchan.ipynb#X13sZmlsZQ%3D%3D?line=2'>3</a>\u001b[0m \u001b[39m#print(produits)\u001b[39;00m\n",
      "\u001b[1;31mNameError\u001b[0m: name 'lien_srayon' is not defined"
     ]
    }
   ],
   "source": [
    "\n",
    "acceuil = f_soup(lien_srayon)\n",
    "produits = acceuil.find_all('div',class_=\"product-thumbnail__details\")\n",
    "#print(produits)\n",
    "\n",
    "produit_list =[]\n",
    "for produit in produits:\n",
    "\n",
    "    produit = produit.text.replace(' ','').replace('\\n',',')\n",
    "    produit_list.append(produit)\n",
    "    #print(produit)\n",
    "\n",
    "print(produit_list)\n"
   ]
  },
  {
   "cell_type": "code",
   "execution_count": null,
   "metadata": {},
   "outputs": [],
   "source": []
  }
 ],
 "metadata": {
  "kernelspec": {
   "display_name": "fvenv",
   "language": "python",
   "name": "python3"
  },
  "language_info": {
   "codemirror_mode": {
    "name": "ipython",
    "version": 3
   },
   "file_extension": ".py",
   "mimetype": "text/x-python",
   "name": "python",
   "nbconvert_exporter": "python",
   "pygments_lexer": "ipython3",
   "version": "3.9.12"
  },
  "orig_nbformat": 4,
  "vscode": {
   "interpreter": {
    "hash": "657a3d73ffca37dbb1786dc1591fa1696117cb9564d93a013871c4e50d92252a"
   }
  }
 },
 "nbformat": 4,
 "nbformat_minor": 2
}
