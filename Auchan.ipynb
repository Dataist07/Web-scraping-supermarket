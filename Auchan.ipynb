{
 "cells": [
  {
   "cell_type": "code",
   "execution_count": 61,
   "metadata": {},
   "outputs": [],
   "source": [
    "from bs4 import BeautifulSoup\n",
    "import requests\n",
    "import pandas as pd"
   ]
  },
  {
   "attachments": {},
   "cell_type": "markdown",
   "metadata": {},
   "source": [
    "Fonctions utiles"
   ]
  },
  {
   "cell_type": "code",
   "execution_count": 62,
   "metadata": {},
   "outputs": [],
   "source": [
    "def f_html(lien):\n",
    "    return requests.get(lien).text.encode(\"utf-8\")\n",
    "\n",
    "def f_soup(lien):\n",
    "    return BeautifulSoup(f_html(lien),'lxml')\n",
    "\n",
    "def f_convertdict(lst):\n",
    "    res_dct = {lst[i]: lst[i + 1] for i in range(0, len(lst), 2)}\n",
    "    return res_dct\n",
    "\n",
    "def delete_several_cha_from_end(string,n):\n",
    "    for i in range(n):\n",
    "        string = string.rstrip(string[-1])\n",
    "    return string\n",
    "\n",
    "def delete_byindex(string,index):\n",
    "    if len(string) > index:\n",
    "        return string[0 : index : ] + string[index + 1 : :]\n",
    "\n"
   ]
  },
  {
   "cell_type": "markdown",
   "metadata": {},
   "source": [
    "Récupérer nom et lien des rayons"
   ]
  },
  {
   "cell_type": "code",
   "execution_count": 63,
   "metadata": {},
   "outputs": [],
   "source": [
    "def search_rayons(lien,list_rayons_principal=[]):\n",
    "    acceuil = f_soup(lien)\n",
    "    rayon_tag = acceuil.find_all('div',class_='navigation-node trigger-sublevel not-loaded')\n",
    "\n",
    "    for rayon in rayon_tag:\n",
    "\n",
    "        #search nom rayon principal\n",
    "        rayon_principal = rayon.text.strip().replace(' ','').replace(\",\",\"\")\n",
    "\n",
    "        #search lien rayon principal\n",
    "        rayon_lien= rayon.a['href']\n",
    "        rayon_lien =f'{lien}{rayon_lien}'\n",
    "\n",
    "        #ajout nom et lien des rayons principales dans une liste\n",
    "        dict_rayon_principal={\n",
    "            'rayon principal' : rayon_principal,\n",
    "            'lien rayon' : rayon_lien \n",
    "        }\n",
    "        list_rayons_principal.append(dict_rayon_principal)\n",
    "\n",
    "    return list_rayons_principal"
   ]
  },
  {
   "attachments": {},
   "cell_type": "markdown",
   "metadata": {},
   "source": [
    "Récupérer noms des sous rayons"
   ]
  },
  {
   "cell_type": "code",
   "execution_count": 64,
   "metadata": {},
   "outputs": [],
   "source": [
    "def search_sous_rayon (lien,lienp ='https://www.auchan.fr',list_sous_rayon=[]):\n",
    "    soup = f_soup(lien)\n",
    "    rayon_sous_tag = soup.find_all('div', class_='universe-block')\n",
    "    for rayon_sous in rayon_sous_tag:\n",
    "\n",
    "        #search nom sous rayon\n",
    "        nom_rayon_sous = rayon_sous.find('div', class_='universe-block__title')\n",
    "        nom_rayon_sous = nom_rayon_sous.text.strip().replace(' ','').replace(',','')\n",
    "        \n",
    "        #search lien sous rayon\n",
    "        lien_sous_rayon = rayon_sous.a['href']\n",
    "        lien_sous_rayon =f'{lienp}{lien_sous_rayon}'\n",
    "        \n",
    "        #ajout nom et lien des sous rayons dans une liste\n",
    "        dict_rayon_sous={\n",
    "            'sous rayon' : nom_rayon_sous,\n",
    "            'lien sous rayon' : lien_sous_rayon\n",
    "        }\n",
    "        \n",
    "        list_sous_rayon.append(dict_rayon_sous)\n",
    "\n",
    "    return list_sous_rayon"
   ]
  },
  {
   "attachments": {},
   "cell_type": "markdown",
   "metadata": {},
   "source": [
    "Assemble list rayon principal et sous rayon"
   ]
  },
  {
   "cell_type": "code",
   "execution_count": 65,
   "metadata": {},
   "outputs": [
    {
     "data": {
      "text/plain": [
       "'\\nlien =\\'https://www.auchan.fr\\'\\ndf_all_rayon = assemble_rayonp_rayons(lien)\\n#df_all_rayon.to_csv(\"list_all_rayon.csv\")\\nprint(df_all_rayon)\\n'"
      ]
     },
     "execution_count": 65,
     "metadata": {},
     "output_type": "execute_result"
    }
   ],
   "source": [
    "def assemble_rayonp_rayons(lien):\n",
    "    #initialize dataframe \n",
    "    df_all_rayon = pd.DataFrame(columns = ['rayon principal', 'lien rayon', 'sous rayon', 'lien sous rayon'])\n",
    " \n",
    "    #search rayons principal\n",
    "    df_rayon_principal = pd.DataFrame(search_rayons(lien))\n",
    "\n",
    "    for i,lien_rayon in enumerate(df_rayon_principal['lien rayon']):\n",
    "\n",
    "        #search sous rayons\n",
    "        list_rayon_sous = search_sous_rayon(lien_rayon)\n",
    "\n",
    "        #si pas de sous rayons\n",
    "        if len(list_rayon_sous) == 0:\n",
    "\n",
    "            #ajout N/A dans column sous rayons du dataframe\n",
    "            list_rayon = [{\n",
    "                'rayon principal' : df_rayon_principal.iloc[i]['rayon principal'],\n",
    "                'lien rayon' : df_rayon_principal.iloc[i]['lien rayon'],\n",
    "                'sous rayon' : 'N/A',\n",
    "                'lien sous rayon' :'N/A'}]\n",
    "            df_rayon = pd.DataFrame(list_rayon)\n",
    "            df_all_rayon = pd.concat([df_all_rayon,df_rayon],ignore_index=True)\n",
    "\n",
    "        #si il y des sous rayons\n",
    "        else : \n",
    "\n",
    "            #ajout de chaque sous rayons dans dataframe\n",
    "            for k,sous_rayon in enumerate(list_rayon_sous):\n",
    "\n",
    "                df_sous_rayon = pd.DataFrame([sous_rayon])\n",
    "    \n",
    "                list_rayon = [{\n",
    "                    'rayon principal' : df_rayon_principal.iloc[i]['rayon principal'],\n",
    "                    'lien rayon' : df_rayon_principal.iloc[i]['lien rayon'],\n",
    "                    'sous rayon' : df_sous_rayon.iloc[0]['sous rayon'],\n",
    "                    'lien sous rayon' : df_sous_rayon.iloc[0]['lien sous rayon']}]\n",
    "                df_rayon = pd.DataFrame(list_rayon)\n",
    "                df_all_rayon = pd.concat([df_all_rayon,df_rayon],ignore_index=True)\n",
    "                \n",
    "        list_rayon_sous.clear()\n",
    "\n",
    "    return df_all_rayon\n",
    "'''\n",
    "lien ='https://www.auchan.fr'\n",
    "df_all_rayon = assemble_rayonp_rayons(lien)\n",
    "#df_all_rayon.to_csv(\"list_all_rayon.csv\")\n",
    "print(df_all_rayon)\n",
    "'''\n"
   ]
  },
  {
   "attachments": {},
   "cell_type": "markdown",
   "metadata": {},
   "source": [
    "Récupérer produits"
   ]
  },
  {
   "cell_type": "code",
   "execution_count": 66,
   "metadata": {},
   "outputs": [],
   "source": [
    "\n",
    "def search_produits(lien):\n",
    "    \n",
    "    #initialize dataframe \n",
    "    df_all_produits = pd.DataFrame(columns = ['rayon principal', 'lien rayon', 'sous rayon', 'lien sous rayon','nom produits'])\n",
    "    \n",
    "    #search tous sous rayons\n",
    "    df_all_rayon = assemble_rayonp_rayons(lien)\n",
    "    \n",
    "    for i,lien_sous_rayon in enumerate(df_all_rayon['lien sous rayon']):\n",
    "\n",
    "        #si pas de lien sous rayon\n",
    "        if lien_sous_rayon =='N/A':\n",
    "\n",
    "            #ajout N/A dans column produits du dataframe\n",
    "            list_produits = [{\n",
    "                'rayon principal' : df_all_rayon.iloc[i]['rayon principal'],\n",
    "                'lien rayon' : df_all_rayon.iloc[i]['lien rayon'],\n",
    "                'sous rayon' : 'N/A',\n",
    "                'lien sous rayon' :'N/A',\n",
    "                'nom produits' : 'N/A'\n",
    "                }]\n",
    "            df_produits = pd.DataFrame(list_produits)\n",
    "            df_all_produits = pd.concat([df_all_produits,df_produits],ignore_index=True)\n",
    "        \n",
    "        #si il y a un lien sous rayon\n",
    "        else :\n",
    "            \n",
    "            #chercher les produits du lien sous rayon\n",
    "            acceuil = f_soup(lien_sous_rayon)\n",
    "            produits = acceuil.find_all('div',class_=\"product-thumbnail__details\")\n",
    "\n",
    "            #ajout de chaque produit dans le dataframe\n",
    "            for produit in produits:\n",
    "\n",
    "                produit = produit.text.replace(' ','').replace('\\n',',')\n",
    "                \n",
    "                list_produits = [{\n",
    "                    'rayon principal' : df_all_rayon.iloc[i]['rayon principal'],\n",
    "                    'lien rayon' : df_all_rayon.iloc[i]['lien rayon'],\n",
    "                    'sous rayon' : df_all_rayon.iloc[i]['sous rayon'],\n",
    "                    'lien sous rayon' : df_all_rayon.iloc[i]['lien sous rayon'],\n",
    "                    'nom produits' : produit\n",
    "                    }]\n",
    "                df_produits = pd.DataFrame(list_produits)\n",
    "                df_all_produits = pd.concat([df_all_produits,df_produits],ignore_index=True)\n",
    "\n",
    "    return df_all_produits\n",
    "\n",
    "\n",
    "lien ='https://www.auchan.fr'\n",
    "df_all_produits = search_produits(lien)\n",
    "df_all_produits.to_csv(\"df_tous_produits.csv\")\n",
    "\n"
   ]
  },
  {
   "cell_type": "code",
   "execution_count": null,
   "metadata": {},
   "outputs": [],
   "source": []
  }
 ],
 "metadata": {
  "kernelspec": {
   "display_name": "fvenv",
   "language": "python",
   "name": "python3"
  },
  "language_info": {
   "codemirror_mode": {
    "name": "ipython",
    "version": 3
   },
   "file_extension": ".py",
   "mimetype": "text/x-python",
   "name": "python",
   "nbconvert_exporter": "python",
   "pygments_lexer": "ipython3",
   "version": "3.9.12"
  },
  "orig_nbformat": 4,
  "vscode": {
   "interpreter": {
    "hash": "657a3d73ffca37dbb1786dc1591fa1696117cb9564d93a013871c4e50d92252a"
   }
  }
 },
 "nbformat": 4,
 "nbformat_minor": 2
}
